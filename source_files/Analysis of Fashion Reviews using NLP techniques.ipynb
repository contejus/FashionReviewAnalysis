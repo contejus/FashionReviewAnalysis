{
 "cells": [
  {
   "cell_type": "markdown",
   "metadata": {},
   "source": [
    "# Analysis of Fashion Reviews using NLP techniques"
   ]
  },
  {
   "cell_type": "markdown",
   "metadata": {},
   "source": [
    "# Table of Contents\n",
    "[Data ingestion](#Data-ingestion)  \n",
    "[Data preprocessing](#Data-preprocessing)  \n",
    "[EDA](#EDA)  \n",
    "[Model Training](#Model-Training)  \n",
    "[Testing the Model](#Testing-the-Model)  \n",
    "[Credits](#Credits)  "
   ]
  },
  {
   "cell_type": "markdown",
   "metadata": {},
   "source": [
    "# Data ingestion"
   ]
  },
  {
   "cell_type": "markdown",
   "metadata": {},
   "source": [
    "## Introduction"
   ]
  },
  {
   "cell_type": "markdown",
   "metadata": {},
   "source": [
    "For this notebook, I used a Kaggle public dataset, located [here](https://www.kaggle.com/nicapotato/womens-ecommerce-clothing-reviews/kernels). Thanks to the Kaggle community and Nick Brooks for providing the dataset.  \n",
    "In this notebook, we have been given a dataset regarding women's fashion and the reviews for each product. Alongside that, we have been given the following columns:  \n",
    "\n",
    "**Clothing ID** - Unique ID for each clothing item  \n",
    "**Age, Title, Review Text** - Title is review title  \n",
    "**Rating** - A score for the given product, from 1 being Worst to 5 being Best  \n",
    "**Recommended IND** - A binary variable representing whether or not the customer recommended said product (1 if recommended, 0 otherwise)  \n",
    "**Positive Feedback Count** - Integer containing the number of customers who thought the review was positive.  \n",
    "**Division Name, Department Name, Class Name** - Categorical name of product high-level division/department/class names.  \n"
   ]
  },
  {
   "cell_type": "markdown",
   "metadata": {},
   "source": [
    "## Initial Thoughts"
   ]
  },
  {
   "cell_type": "markdown",
   "metadata": {},
   "source": [
    "Judging from the initial impressions on Kaggle, it seems this dataset is a high quality dataset for NLP usage. Our pipeline for this analysis consists of: getting our text data, processing the text, converting the text to features, vectorizing the text, and the training our model based on this vectorized text.  \n",
    "\n",
    "We also have to choose a problem to solve using this data. I plan to do two different kinds of analysis: a word scatter plot showing the different words contained throughout all of the reviews and their associations. I will then run a clustering algorithm to observe the trends in the words. Second, I will make a classification model that uses the review analysis to predict the recommendation/rating of a product. "
   ]
  },
  {
   "cell_type": "markdown",
   "metadata": {},
   "source": [
    "# Data preprocessing"
   ]
  },
  {
   "cell_type": "markdown",
   "metadata": {},
   "source": [
    "Let's begin by importing the dataset."
   ]
  },
  {
   "cell_type": "code",
   "execution_count": 1,
   "metadata": {},
   "outputs": [],
   "source": [
    "import pandas as pd\n",
    "import numpy as np\n",
    "\n",
    "df = pd.read_csv('./datasets/Womens Clothing E-Commerce Reviews.csv')"
   ]
  },
  {
   "cell_type": "code",
   "execution_count": 2,
   "metadata": {
    "scrolled": true
   },
   "outputs": [
    {
     "name": "stdout",
     "output_type": "stream",
     "text": [
      "   Unnamed: 0  Clothing ID  Age                    Title  \\\n",
      "0           0          767   33                      NaN   \n",
      "1           1         1080   34                      NaN   \n",
      "2           2         1077   60  Some major design flaws   \n",
      "3           3         1049   50         My favorite buy!   \n",
      "4           4          847   47         Flattering shirt   \n",
      "\n",
      "                                         Review Text  Rating  Recommended IND  \\\n",
      "0  Absolutely wonderful - silky and sexy and comf...       4                1   \n",
      "1  Love this dress!  it's sooo pretty.  i happene...       5                1   \n",
      "2  I had such high hopes for this dress and reall...       3                0   \n",
      "3  I love, love, love this jumpsuit. it's fun, fl...       5                1   \n",
      "4  This shirt is very flattering to all due to th...       5                1   \n",
      "\n",
      "   Positive Feedback Count   Division Name Department Name Class Name  \n",
      "0                        0       Initmates        Intimate  Intimates  \n",
      "1                        4         General         Dresses    Dresses  \n",
      "2                        0         General         Dresses    Dresses  \n",
      "3                        0  General Petite         Bottoms      Pants  \n",
      "4                        6         General            Tops    Blouses  \n",
      "\n",
      "Length of the data is: 23486\n"
     ]
    }
   ],
   "source": [
    "print(df.head())\n",
    "print('\\nLength of the data is: ' + str(len(df.index)))"
   ]
  },
  {
   "cell_type": "markdown",
   "metadata": {},
   "source": [
    "We have a good amount of data, so let's continue our preprocessing by removing noise from the dataset. Noise in NLP context can be taken as anything that doesn't actively give meaning to the text in our data. Words like 'the', 'it', 'and' etc. don't contribute much meaning and are frequently present in the English language, so by removing stopwords, we can reduce time to perform operations and extract more meaning from our dataset. "
   ]
  },
  {
   "cell_type": "code",
   "execution_count": 3,
   "metadata": {},
   "outputs": [],
   "source": [
    "from nltk.corpus import stopwords\n",
    "from sklearn.feature_extraction.stop_words import ENGLISH_STOP_WORDS\n",
    "\n",
    "eng_stop_words = set(stopwords.words('english')).union(set(ENGLISH_STOP_WORDS))"
   ]
  },
  {
   "cell_type": "code",
   "execution_count": 4,
   "metadata": {
    "scrolled": true
   },
   "outputs": [
    {
     "name": "stdout",
     "output_type": "stream",
     "text": [
      "{'have', 'as', 'hereafter', 'through', 'ain', 'twelve', 'off', 'bottom', 'is', 'con', 'front', 'the', \"mustn't\", 'needn', 'doesn', 'him', 'every', 'becoming', 'thru', 'under', 'something', 'own', 'together', 'out', 'ie', \"wouldn't\", 'us', 'fire', 'de', 'formerly', 'seemed', 'very', 'hasn', 'whose', 'go', 'what', 'myself', 'could', 'everything', 'wherein', 'anyway', 'or', 'seeming', 'back', 'after', 'find', 'anything', \"she's\", 'cant', 'd', \"that'll\", 'three', 'haven', 'm', 'afterwards', 'sixty', 'more', 'be', 'herein', 'how', 'these', 'hereby', 'during', 'shan', 'whereupon', 'forty', 'against', 'eg', 'on', 'do', 'much', \"didn't\", 'name', 'don', 'get', 'will', 'enough', 'y', \"you'd\", 'same', 'still', 'thereby', 'along', 'inc', 'himself', 'whom', 'found', 'doing', 'nine', 'side', 'having', 'former', 'call', 'detail', 'nevertheless', 'show', 'nothing', 'anyhow', 'if', 're', 'whereas', 'before', 'therefore', 'latterly', 'less', 'other', 'namely', 'twenty', 'up', 'beside', 'already', 'weren', \"shan't\", 'hadn', 'we', \"isn't\", 'couldnt', 'again', 'fifty', 'yours', 'keep', 'part', 'one', 'didn', 'theirs', 'around', 'most', 'yet', 'also', 'five', 'which', 'next', 'by', 'third', 'until', 'give', 'she', 'down', 'two', 'whoever', 'besides', 'others', 'rather', 'via', 'why', 'now', 'being', 'but', 'for', 'everywhere', 'across', 'noone', 'eight', 'several', 'are', 'her', 'when', 'always', 'there', 'and', 'became', \"you'll\", 's', 'from', 'anyone', 'onto', 'moreover', 'since', 'bill', 'within', 'aren', 'everyone', 'won', 'had', 'none', 'without', 'ourselves', \"weren't\", 'otherwise', 'them', 'somehow', 'only', 'me', 'nor', \"you've\", 'mustn', 'take', 'system', 'someone', 'whence', 'fill', 'mightn', 'throughout', 'though', 'hereupon', 'whereafter', 'cannot', 'any', \"hasn't\", 'neither', 'co', 'etc', 'isn', 'hers', 'perhaps', 'please', 'thick', \"shouldn't\", 'his', 'ever', 'am', 'put', 'my', 'top', 'serious', 'been', 'toward', 'indeed', 'last', 'seems', \"mightn't\", 'wasn', 'who', 'meanwhile', 'too', 'thence', 'its', 'elsewhere', 'often', 'done', 'mine', 'thus', 'almost', 'alone', 'o', 'due', 'below', 'well', 'were', 'move', 'both', 'else', 'mill', 'many', 'between', 'so', 'first', 'upon', 'few', 'that', 'those', 'either', 'latter', 'itself', 'all', 'to', 't', 'four', 'themselves', 'while', \"should've\", 'wouldn', 'than', 'eleven', 'can', 'hasnt', 'over', 'hundred', 'whole', 'amoungst', \"needn't\", 'another', 'empty', \"aren't\", 'with', 'seem', 'therein', 'thereupon', \"it's\", 'their', 'yourselves', \"don't\", 'a', 'yourself', \"hadn't\", 'least', 'such', \"won't\", 'of', 'whither', 'should', 'made', 'then', 've', 'hence', 'beyond', 'ours', 'full', 'at', 'about', \"doesn't\", 'amongst', \"wasn't\", 'sometimes', \"haven't\", 'not', 'whenever', 'except', 'even', 'towards', 'six', 'mostly', 'ma', 'shouldn', 'each', 'become', 'nowhere', 'here', 'whereby', 'among', 'your', 'was', 'does', 'nobody', 'cry', 'per', 'sometime', 'you', 'describe', 'somewhere', 'might', 'becomes', 'has', 'no', 'ltd', 'see', 'however', 'he', 'would', 'into', 'they', 'couldn', 'amount', 'where', 'whatever', 'thereafter', 'never', 'because', 'fifteen', 'thin', 'our', \"couldn't\", 'above', 'may', 'sincere', 'in', 'anywhere', 'it', 'did', 'although', 'behind', 'once', 'beforehand', \"you're\", 'an', 'herself', 'further', 'some', 'll', 'wherever', 'interest', 'ten', 'must', 'un', 'just', 'whether', 'this', 'i'}\n"
     ]
    }
   ],
   "source": [
    "print(eng_stop_words)"
   ]
  },
  {
   "cell_type": "markdown",
   "metadata": {},
   "source": [
    "I've merged the stopwords of NLTK and Scikit-learn to get a better stopword removal in our own model. We also have to perform steps to trim out columns we don't need in our analysis."
   ]
  },
  {
   "cell_type": "code",
   "execution_count": 5,
   "metadata": {
    "scrolled": true
   },
   "outputs": [
    {
     "data": {
      "text/html": [
       "<div>\n",
       "<style scoped>\n",
       "    .dataframe tbody tr th:only-of-type {\n",
       "        vertical-align: middle;\n",
       "    }\n",
       "\n",
       "    .dataframe tbody tr th {\n",
       "        vertical-align: top;\n",
       "    }\n",
       "\n",
       "    .dataframe thead th {\n",
       "        text-align: right;\n",
       "    }\n",
       "</style>\n",
       "<table border=\"1\" class=\"dataframe\">\n",
       "  <thead>\n",
       "    <tr style=\"text-align: right;\">\n",
       "      <th></th>\n",
       "      <th>Review Text</th>\n",
       "      <th>Rating</th>\n",
       "      <th>Recommended IND</th>\n",
       "    </tr>\n",
       "  </thead>\n",
       "  <tbody>\n",
       "    <tr>\n",
       "      <th>0</th>\n",
       "      <td>Absolutely wonderful - silky and sexy and comf...</td>\n",
       "      <td>4</td>\n",
       "      <td>1</td>\n",
       "    </tr>\n",
       "    <tr>\n",
       "      <th>1</th>\n",
       "      <td>Love this dress!  it's sooo pretty.  i happene...</td>\n",
       "      <td>5</td>\n",
       "      <td>1</td>\n",
       "    </tr>\n",
       "    <tr>\n",
       "      <th>2</th>\n",
       "      <td>I had such high hopes for this dress and reall...</td>\n",
       "      <td>3</td>\n",
       "      <td>0</td>\n",
       "    </tr>\n",
       "    <tr>\n",
       "      <th>3</th>\n",
       "      <td>I love, love, love this jumpsuit. it's fun, fl...</td>\n",
       "      <td>5</td>\n",
       "      <td>1</td>\n",
       "    </tr>\n",
       "    <tr>\n",
       "      <th>4</th>\n",
       "      <td>This shirt is very flattering to all due to th...</td>\n",
       "      <td>5</td>\n",
       "      <td>1</td>\n",
       "    </tr>\n",
       "    <tr>\n",
       "      <th>5</th>\n",
       "      <td>I love tracy reese dresses, but this one is no...</td>\n",
       "      <td>2</td>\n",
       "      <td>0</td>\n",
       "    </tr>\n",
       "    <tr>\n",
       "      <th>6</th>\n",
       "      <td>I aded this in my basket at hte last mintue to...</td>\n",
       "      <td>5</td>\n",
       "      <td>1</td>\n",
       "    </tr>\n",
       "    <tr>\n",
       "      <th>7</th>\n",
       "      <td>I ordered this in carbon for store pick up, an...</td>\n",
       "      <td>4</td>\n",
       "      <td>1</td>\n",
       "    </tr>\n",
       "    <tr>\n",
       "      <th>8</th>\n",
       "      <td>I love this dress. i usually get an xs but it ...</td>\n",
       "      <td>5</td>\n",
       "      <td>1</td>\n",
       "    </tr>\n",
       "    <tr>\n",
       "      <th>9</th>\n",
       "      <td>I'm 5\"5' and 125 lbs. i ordered the s petite t...</td>\n",
       "      <td>5</td>\n",
       "      <td>1</td>\n",
       "    </tr>\n",
       "    <tr>\n",
       "      <th>10</th>\n",
       "      <td>Dress runs small esp where the zipper area run...</td>\n",
       "      <td>3</td>\n",
       "      <td>0</td>\n",
       "    </tr>\n",
       "    <tr>\n",
       "      <th>11</th>\n",
       "      <td>This dress is perfection! so pretty and flatte...</td>\n",
       "      <td>5</td>\n",
       "      <td>1</td>\n",
       "    </tr>\n",
       "    <tr>\n",
       "      <th>12</th>\n",
       "      <td>More and more i find myself reliant on the rev...</td>\n",
       "      <td>5</td>\n",
       "      <td>1</td>\n",
       "    </tr>\n",
       "    <tr>\n",
       "      <th>13</th>\n",
       "      <td>Bought the black xs to go under the larkspur m...</td>\n",
       "      <td>5</td>\n",
       "      <td>1</td>\n",
       "    </tr>\n",
       "    <tr>\n",
       "      <th>14</th>\n",
       "      <td>This is a nice choice for holiday gatherings. ...</td>\n",
       "      <td>3</td>\n",
       "      <td>1</td>\n",
       "    </tr>\n",
       "    <tr>\n",
       "      <th>15</th>\n",
       "      <td>I took these out of the package and wanted the...</td>\n",
       "      <td>4</td>\n",
       "      <td>1</td>\n",
       "    </tr>\n",
       "    <tr>\n",
       "      <th>16</th>\n",
       "      <td>Material and color is nice.  the leg opening i...</td>\n",
       "      <td>3</td>\n",
       "      <td>1</td>\n",
       "    </tr>\n",
       "    <tr>\n",
       "      <th>17</th>\n",
       "      <td>Took a chance on this blouse and so glad i did...</td>\n",
       "      <td>5</td>\n",
       "      <td>1</td>\n",
       "    </tr>\n",
       "    <tr>\n",
       "      <th>18</th>\n",
       "      <td>A flattering, super cozy coat.  will work well...</td>\n",
       "      <td>5</td>\n",
       "      <td>1</td>\n",
       "    </tr>\n",
       "    <tr>\n",
       "      <th>19</th>\n",
       "      <td>I love the look and feel of this tulle dress. ...</td>\n",
       "      <td>5</td>\n",
       "      <td>1</td>\n",
       "    </tr>\n",
       "    <tr>\n",
       "      <th>20</th>\n",
       "      <td>If this product was in petite, i would get the...</td>\n",
       "      <td>4</td>\n",
       "      <td>1</td>\n",
       "    </tr>\n",
       "    <tr>\n",
       "      <th>21</th>\n",
       "      <td>I'm upset because for the price of the dress, ...</td>\n",
       "      <td>4</td>\n",
       "      <td>1</td>\n",
       "    </tr>\n",
       "    <tr>\n",
       "      <th>22</th>\n",
       "      <td>First of all, this is not pullover styling. th...</td>\n",
       "      <td>2</td>\n",
       "      <td>0</td>\n",
       "    </tr>\n",
       "    <tr>\n",
       "      <th>23</th>\n",
       "      <td>Cute little dress fits tts. it is a little hig...</td>\n",
       "      <td>3</td>\n",
       "      <td>1</td>\n",
       "    </tr>\n",
       "    <tr>\n",
       "      <th>24</th>\n",
       "      <td>I love this shirt because when i first saw it,...</td>\n",
       "      <td>5</td>\n",
       "      <td>1</td>\n",
       "    </tr>\n",
       "    <tr>\n",
       "      <th>25</th>\n",
       "      <td>Loved the material, but i didnt really look at...</td>\n",
       "      <td>3</td>\n",
       "      <td>0</td>\n",
       "    </tr>\n",
       "    <tr>\n",
       "      <th>26</th>\n",
       "      <td>I have been waiting for this sweater coat to s...</td>\n",
       "      <td>2</td>\n",
       "      <td>0</td>\n",
       "    </tr>\n",
       "    <tr>\n",
       "      <th>27</th>\n",
       "      <td>The colors weren't what i expected either. the...</td>\n",
       "      <td>4</td>\n",
       "      <td>1</td>\n",
       "    </tr>\n",
       "    <tr>\n",
       "      <th>28</th>\n",
       "      <td>I have several of goodhyouman shirts and i get...</td>\n",
       "      <td>5</td>\n",
       "      <td>1</td>\n",
       "    </tr>\n",
       "    <tr>\n",
       "      <th>29</th>\n",
       "      <td>This sweater is so comfy and classic - it bala...</td>\n",
       "      <td>5</td>\n",
       "      <td>1</td>\n",
       "    </tr>\n",
       "    <tr>\n",
       "      <th>...</th>\n",
       "      <td>...</td>\n",
       "      <td>...</td>\n",
       "      <td>...</td>\n",
       "    </tr>\n",
       "    <tr>\n",
       "      <th>23456</th>\n",
       "      <td>I have been on a search for a dress with sleev...</td>\n",
       "      <td>5</td>\n",
       "      <td>1</td>\n",
       "    </tr>\n",
       "    <tr>\n",
       "      <th>23457</th>\n",
       "      <td>These pants are soft, fun print and comfy. the...</td>\n",
       "      <td>5</td>\n",
       "      <td>1</td>\n",
       "    </tr>\n",
       "    <tr>\n",
       "      <th>23458</th>\n",
       "      <td>This is my new favorite sweater. it is lightwe...</td>\n",
       "      <td>5</td>\n",
       "      <td>1</td>\n",
       "    </tr>\n",
       "    <tr>\n",
       "      <th>23459</th>\n",
       "      <td>This is my new favorite dress! my only complai...</td>\n",
       "      <td>4</td>\n",
       "      <td>1</td>\n",
       "    </tr>\n",
       "    <tr>\n",
       "      <th>23460</th>\n",
       "      <td>I purchased this for a very good price and i t...</td>\n",
       "      <td>3</td>\n",
       "      <td>0</td>\n",
       "    </tr>\n",
       "    <tr>\n",
       "      <th>23461</th>\n",
       "      <td>I tried these on at the store and the fit was ...</td>\n",
       "      <td>4</td>\n",
       "      <td>1</td>\n",
       "    </tr>\n",
       "    <tr>\n",
       "      <th>23462</th>\n",
       "      <td>The pattern of this skirt is adorable and look...</td>\n",
       "      <td>3</td>\n",
       "      <td>1</td>\n",
       "    </tr>\n",
       "    <tr>\n",
       "      <th>23463</th>\n",
       "      <td>These pants overall are very comfortable, but ...</td>\n",
       "      <td>4</td>\n",
       "      <td>1</td>\n",
       "    </tr>\n",
       "    <tr>\n",
       "      <th>23464</th>\n",
       "      <td>I wore this dress to work the other day and go...</td>\n",
       "      <td>5</td>\n",
       "      <td>1</td>\n",
       "    </tr>\n",
       "    <tr>\n",
       "      <th>23465</th>\n",
       "      <td>I bought this dress for work and post work hap...</td>\n",
       "      <td>5</td>\n",
       "      <td>1</td>\n",
       "    </tr>\n",
       "    <tr>\n",
       "      <th>23466</th>\n",
       "      <td>This dress has a great design and fits very we...</td>\n",
       "      <td>4</td>\n",
       "      <td>1</td>\n",
       "    </tr>\n",
       "    <tr>\n",
       "      <th>23467</th>\n",
       "      <td>I worry when i have an elastic waist, or somet...</td>\n",
       "      <td>5</td>\n",
       "      <td>1</td>\n",
       "    </tr>\n",
       "    <tr>\n",
       "      <th>23468</th>\n",
       "      <td>I love this little chemise! the adjustable str...</td>\n",
       "      <td>5</td>\n",
       "      <td>1</td>\n",
       "    </tr>\n",
       "    <tr>\n",
       "      <th>23469</th>\n",
       "      <td>My size was not available so based on reviews ...</td>\n",
       "      <td>4</td>\n",
       "      <td>1</td>\n",
       "    </tr>\n",
       "    <tr>\n",
       "      <th>23470</th>\n",
       "      <td>0</td>\n",
       "      <td>5</td>\n",
       "      <td>1</td>\n",
       "    </tr>\n",
       "    <tr>\n",
       "      <th>23471</th>\n",
       "      <td>Love the way these pants look in the pictures,...</td>\n",
       "      <td>4</td>\n",
       "      <td>1</td>\n",
       "    </tr>\n",
       "    <tr>\n",
       "      <th>23472</th>\n",
       "      <td>I saw the shirt on the retailer website and ne...</td>\n",
       "      <td>5</td>\n",
       "      <td>1</td>\n",
       "    </tr>\n",
       "    <tr>\n",
       "      <th>23473</th>\n",
       "      <td>Great quality and extremely flattering. bonus ...</td>\n",
       "      <td>5</td>\n",
       "      <td>1</td>\n",
       "    </tr>\n",
       "    <tr>\n",
       "      <th>23474</th>\n",
       "      <td>Yes, this is a great dress! i wasn't sure abou...</td>\n",
       "      <td>5</td>\n",
       "      <td>1</td>\n",
       "    </tr>\n",
       "    <tr>\n",
       "      <th>23475</th>\n",
       "      <td>Cute dress but not for me.  the waist is too h...</td>\n",
       "      <td>3</td>\n",
       "      <td>1</td>\n",
       "    </tr>\n",
       "    <tr>\n",
       "      <th>23476</th>\n",
       "      <td>These bottoms are very cute but defiantly chee...</td>\n",
       "      <td>4</td>\n",
       "      <td>1</td>\n",
       "    </tr>\n",
       "    <tr>\n",
       "      <th>23477</th>\n",
       "      <td>I'm so impressed with the beautiful color comb...</td>\n",
       "      <td>4</td>\n",
       "      <td>1</td>\n",
       "    </tr>\n",
       "    <tr>\n",
       "      <th>23478</th>\n",
       "      <td>I was surprised at the positive reviews for th...</td>\n",
       "      <td>1</td>\n",
       "      <td>0</td>\n",
       "    </tr>\n",
       "    <tr>\n",
       "      <th>23479</th>\n",
       "      <td>So i wasn't sure about ordering this skirt bec...</td>\n",
       "      <td>5</td>\n",
       "      <td>1</td>\n",
       "    </tr>\n",
       "    <tr>\n",
       "      <th>23480</th>\n",
       "      <td>0</td>\n",
       "      <td>5</td>\n",
       "      <td>1</td>\n",
       "    </tr>\n",
       "    <tr>\n",
       "      <th>23481</th>\n",
       "      <td>I was very happy to snag this dress at such a ...</td>\n",
       "      <td>5</td>\n",
       "      <td>1</td>\n",
       "    </tr>\n",
       "    <tr>\n",
       "      <th>23482</th>\n",
       "      <td>It reminds me of maternity clothes. soft, stre...</td>\n",
       "      <td>3</td>\n",
       "      <td>1</td>\n",
       "    </tr>\n",
       "    <tr>\n",
       "      <th>23483</th>\n",
       "      <td>This fit well, but the top was very see throug...</td>\n",
       "      <td>3</td>\n",
       "      <td>0</td>\n",
       "    </tr>\n",
       "    <tr>\n",
       "      <th>23484</th>\n",
       "      <td>I bought this dress for a wedding i have this ...</td>\n",
       "      <td>3</td>\n",
       "      <td>1</td>\n",
       "    </tr>\n",
       "    <tr>\n",
       "      <th>23485</th>\n",
       "      <td>This dress in a lovely platinum is feminine an...</td>\n",
       "      <td>5</td>\n",
       "      <td>1</td>\n",
       "    </tr>\n",
       "  </tbody>\n",
       "</table>\n",
       "<p>23486 rows × 3 columns</p>\n",
       "</div>"
      ],
      "text/plain": [
       "                                             Review Text  Rating  \\\n",
       "0      Absolutely wonderful - silky and sexy and comf...       4   \n",
       "1      Love this dress!  it's sooo pretty.  i happene...       5   \n",
       "2      I had such high hopes for this dress and reall...       3   \n",
       "3      I love, love, love this jumpsuit. it's fun, fl...       5   \n",
       "4      This shirt is very flattering to all due to th...       5   \n",
       "5      I love tracy reese dresses, but this one is no...       2   \n",
       "6      I aded this in my basket at hte last mintue to...       5   \n",
       "7      I ordered this in carbon for store pick up, an...       4   \n",
       "8      I love this dress. i usually get an xs but it ...       5   \n",
       "9      I'm 5\"5' and 125 lbs. i ordered the s petite t...       5   \n",
       "10     Dress runs small esp where the zipper area run...       3   \n",
       "11     This dress is perfection! so pretty and flatte...       5   \n",
       "12     More and more i find myself reliant on the rev...       5   \n",
       "13     Bought the black xs to go under the larkspur m...       5   \n",
       "14     This is a nice choice for holiday gatherings. ...       3   \n",
       "15     I took these out of the package and wanted the...       4   \n",
       "16     Material and color is nice.  the leg opening i...       3   \n",
       "17     Took a chance on this blouse and so glad i did...       5   \n",
       "18     A flattering, super cozy coat.  will work well...       5   \n",
       "19     I love the look and feel of this tulle dress. ...       5   \n",
       "20     If this product was in petite, i would get the...       4   \n",
       "21     I'm upset because for the price of the dress, ...       4   \n",
       "22     First of all, this is not pullover styling. th...       2   \n",
       "23     Cute little dress fits tts. it is a little hig...       3   \n",
       "24     I love this shirt because when i first saw it,...       5   \n",
       "25     Loved the material, but i didnt really look at...       3   \n",
       "26     I have been waiting for this sweater coat to s...       2   \n",
       "27     The colors weren't what i expected either. the...       4   \n",
       "28     I have several of goodhyouman shirts and i get...       5   \n",
       "29     This sweater is so comfy and classic - it bala...       5   \n",
       "...                                                  ...     ...   \n",
       "23456  I have been on a search for a dress with sleev...       5   \n",
       "23457  These pants are soft, fun print and comfy. the...       5   \n",
       "23458  This is my new favorite sweater. it is lightwe...       5   \n",
       "23459  This is my new favorite dress! my only complai...       4   \n",
       "23460  I purchased this for a very good price and i t...       3   \n",
       "23461  I tried these on at the store and the fit was ...       4   \n",
       "23462  The pattern of this skirt is adorable and look...       3   \n",
       "23463  These pants overall are very comfortable, but ...       4   \n",
       "23464  I wore this dress to work the other day and go...       5   \n",
       "23465  I bought this dress for work and post work hap...       5   \n",
       "23466  This dress has a great design and fits very we...       4   \n",
       "23467  I worry when i have an elastic waist, or somet...       5   \n",
       "23468  I love this little chemise! the adjustable str...       5   \n",
       "23469  My size was not available so based on reviews ...       4   \n",
       "23470                                                  0       5   \n",
       "23471  Love the way these pants look in the pictures,...       4   \n",
       "23472  I saw the shirt on the retailer website and ne...       5   \n",
       "23473  Great quality and extremely flattering. bonus ...       5   \n",
       "23474  Yes, this is a great dress! i wasn't sure abou...       5   \n",
       "23475  Cute dress but not for me.  the waist is too h...       3   \n",
       "23476  These bottoms are very cute but defiantly chee...       4   \n",
       "23477  I'm so impressed with the beautiful color comb...       4   \n",
       "23478  I was surprised at the positive reviews for th...       1   \n",
       "23479  So i wasn't sure about ordering this skirt bec...       5   \n",
       "23480                                                  0       5   \n",
       "23481  I was very happy to snag this dress at such a ...       5   \n",
       "23482  It reminds me of maternity clothes. soft, stre...       3   \n",
       "23483  This fit well, but the top was very see throug...       3   \n",
       "23484  I bought this dress for a wedding i have this ...       3   \n",
       "23485  This dress in a lovely platinum is feminine an...       5   \n",
       "\n",
       "       Recommended IND  \n",
       "0                    1  \n",
       "1                    1  \n",
       "2                    0  \n",
       "3                    1  \n",
       "4                    1  \n",
       "5                    0  \n",
       "6                    1  \n",
       "7                    1  \n",
       "8                    1  \n",
       "9                    1  \n",
       "10                   0  \n",
       "11                   1  \n",
       "12                   1  \n",
       "13                   1  \n",
       "14                   1  \n",
       "15                   1  \n",
       "16                   1  \n",
       "17                   1  \n",
       "18                   1  \n",
       "19                   1  \n",
       "20                   1  \n",
       "21                   1  \n",
       "22                   0  \n",
       "23                   1  \n",
       "24                   1  \n",
       "25                   0  \n",
       "26                   0  \n",
       "27                   1  \n",
       "28                   1  \n",
       "29                   1  \n",
       "...                ...  \n",
       "23456                1  \n",
       "23457                1  \n",
       "23458                1  \n",
       "23459                1  \n",
       "23460                0  \n",
       "23461                1  \n",
       "23462                1  \n",
       "23463                1  \n",
       "23464                1  \n",
       "23465                1  \n",
       "23466                1  \n",
       "23467                1  \n",
       "23468                1  \n",
       "23469                1  \n",
       "23470                1  \n",
       "23471                1  \n",
       "23472                1  \n",
       "23473                1  \n",
       "23474                1  \n",
       "23475                1  \n",
       "23476                1  \n",
       "23477                1  \n",
       "23478                0  \n",
       "23479                1  \n",
       "23480                1  \n",
       "23481                1  \n",
       "23482                1  \n",
       "23483                0  \n",
       "23484                1  \n",
       "23485                1  \n",
       "\n",
       "[23486 rows x 3 columns]"
      ]
     },
     "execution_count": 5,
     "metadata": {},
     "output_type": "execute_result"
    }
   ],
   "source": [
    "df = df[['Review Text', 'Rating', 'Recommended IND']]\n",
    "df.head()\n",
    "df.fillna(0)"
   ]
  },
  {
   "cell_type": "markdown",
   "metadata": {},
   "source": [
    "We can then iterate over the review text and perform our preprocessing steps. "
   ]
  },
  {
   "cell_type": "code",
   "execution_count": 6,
   "metadata": {},
   "outputs": [],
   "source": [
    "import string\n",
    "\n",
    "df.dropna()\n",
    "df['Filtered Text'] = df['Review Text'].apply(lambda x: [''.join(item.lower()) for item in str(x).split()])\n",
    "df['Filtered Text'] = df['Filtered Text'].apply(lambda x: [item.translate(str.maketrans('', '', string.punctuation)) for item in x])\n",
    "df['Filtered Text'] = df['Filtered Text'].apply(lambda x: ' '.join([word for word in x if word not in (eng_stop_words) and word != \" \" and word.isdigit() == False]))\n",
    "df = df.drop(df[df['Filtered Text'] == 'nan'].index)"
   ]
  },
  {
   "cell_type": "code",
   "execution_count": 7,
   "metadata": {
    "scrolled": true
   },
   "outputs": [
    {
     "data": {
      "text/plain": [
       "0             absolutely wonderful  silky sexy comfortable\n",
       "1        love dress sooo pretty happened store im glad ...\n",
       "2        high hopes dress really wanted work initially ...\n",
       "3        love love love jumpsuit fun flirty fabulous ti...\n",
       "4        shirt flattering adjustable tie perfect length...\n",
       "5        love tracy reese dresses petite feet tall usua...\n",
       "6        aded basket hte mintue look like person store ...\n",
       "7        ordered carbon store pick ton stuff try used p...\n",
       "8        love dress usually xs runs little snug bust or...\n",
       "9        im lbs ordered petite make sure length wasnt l...\n",
       "10       dress runs small esp zipper area runs ordered ...\n",
       "11                      dress perfection pretty flattering\n",
       "12       reliant reviews written savvy shoppers past ri...\n",
       "13       bought black xs larkspur midi dress didnt both...\n",
       "14       nice choice holiday gatherings like length gra...\n",
       "15       took package wanted fit badly tell wouldnt hou...\n",
       "16       material color nice leg opening large length h...\n",
       "17       took chance blouse glad wasnt crazy blouse pho...\n",
       "18       flattering super cozy coat work cold dry days ...\n",
       "19       love look feel tulle dress looking different n...\n",
       "20       product petite petite regular little long tail...\n",
       "21       im upset price dress thought embroidered print...\n",
       "22       pullover styling zipper wouldnt purchased knew...\n",
       "23       cute little dress fits tts little high waisted...\n",
       "24       love shirt saw wasnt sure shirt dress seethrou...\n",
       "25       loved material didnt really look long dress pu...\n",
       "26       waiting sweater coat ship weeks excited arrive...\n",
       "27       colors werent expected dark blue vibrant reall...\n",
       "28       goodhyouman shirts compliments especially says...\n",
       "29       sweater comfy classic  balances quirky handkni...\n",
       "                               ...                        \n",
       "23454    fabric textured like upholstery zipper little ...\n",
       "23455    cute dress mainly like neckline different prob...\n",
       "23456    search dress sleeves cute date night bigger gi...\n",
       "23457    pants soft fun print comfy drop crotch cut fla...\n",
       "23458    new favorite sweater lightweight drapey flatte...\n",
       "23459    new favorite dress complaint slip small dress ...\n",
       "23460    purchased good price typically love maeve winw...\n",
       "23461    tried store fit good length ok petite person f...\n",
       "23462    pattern skirt adorable looks better person fab...\n",
       "23463    pants overall comfortable unusual fit tend run...\n",
       "23464    wore dress work day got compliments fit design...\n",
       "23465    bought dress work post work happy hours love m...\n",
       "23466    dress great design fits looks great material c...\n",
       "23467    worry elastic waist resembles dress hangs like...\n",
       "23468    love little chemise adjustable straps sold im ...\n",
       "23469    size available based reviews stating bagginess...\n",
       "23471    love way pants look pictures great quality sty...\n",
       "23472    saw shirt retailer website new arrived perfect...\n",
       "23473    great quality extremely flattering bonus sale ...\n",
       "23474    yes great dress wasnt sure online color combin...\n",
       "23475    cute dress waist high sleeves tight maybe diff...\n",
       "23476    bottoms cute defiantly cheeky recommend sizing...\n",
       "23477    im impressed beautiful color combinations embr...\n",
       "23478    surprised positive reviews product terrible cu...\n",
       "23479    wasnt sure ordering skirt person im glad skirt...\n",
       "23481    happy snag dress great price easy slip flatter...\n",
       "23482    reminds maternity clothes soft stretchy shiny ...\n",
       "23483    fit worked im glad able try store didnt order ...\n",
       "23484    bought dress wedding summer cute unfortunately...\n",
       "23485    dress lovely platinum feminine fits perfectly ...\n",
       "Name: Filtered Text, Length: 22641, dtype: object"
      ]
     },
     "execution_count": 7,
     "metadata": {},
     "output_type": "execute_result"
    }
   ],
   "source": [
    "df['Filtered Text']"
   ]
  },
  {
   "cell_type": "markdown",
   "metadata": {},
   "source": [
    "Now that we've removed the stopwords and the punctuation from our review text, it's time to convert all of the words to their base forms. For example, stopping and stopped would turn into stop, etc. This process can be done in two ways: stemming and lemmatization. I chose lemmatization for this notebook due to the higher accuracy of the algorithm. Stemming, while less accurate, is faster than lemmatization. "
   ]
  },
  {
   "cell_type": "code",
   "execution_count": 8,
   "metadata": {},
   "outputs": [
    {
     "name": "stderr",
     "output_type": "stream",
     "text": [
      "[nltk_data] Downloading package wordnet to\n",
      "[nltk_data]     C:\\Users\\tgmat\\AppData\\Roaming\\nltk_data...\n",
      "[nltk_data]   Package wordnet is already up-to-date!\n"
     ]
    }
   ],
   "source": [
    "import nltk \n",
    "from nltk.stem.wordnet import WordNetLemmatizer\n",
    "\n",
    "nltk.download('wordnet')\n",
    "tknzr = nltk.tokenize.WhitespaceTokenizer()\n",
    "lmtzr = WordNetLemmatizer()\n",
    "df['Filtered Text'] = df['Filtered Text'].apply(lambda x: [lmtzr.lemmatize(word) for word in tknzr.tokenize(x)])"
   ]
  },
  {
   "cell_type": "code",
   "execution_count": 9,
   "metadata": {
    "scrolled": true
   },
   "outputs": [
    {
     "data": {
      "text/plain": [
       "0        [absolutely, wonderful, silky, sexy, comfortable]\n",
       "1        [love, dress, sooo, pretty, happened, store, i...\n",
       "2        [high, hope, dress, really, wanted, work, init...\n",
       "3        [love, love, love, jumpsuit, fun, flirty, fabu...\n",
       "4        [shirt, flattering, adjustable, tie, perfect, ...\n",
       "5        [love, tracy, reese, dress, petite, foot, tall...\n",
       "6        [aded, basket, hte, mintue, look, like, person...\n",
       "7        [ordered, carbon, store, pick, ton, stuff, try...\n",
       "8        [love, dress, usually, x, run, little, snug, b...\n",
       "9        [im, lb, ordered, petite, make, sure, length, ...\n",
       "10       [dress, run, small, esp, zipper, area, run, or...\n",
       "11                 [dress, perfection, pretty, flattering]\n",
       "12       [reliant, review, written, savvy, shopper, pas...\n",
       "13       [bought, black, x, larkspur, midi, dress, didn...\n",
       "14       [nice, choice, holiday, gathering, like, lengt...\n",
       "15       [took, package, wanted, fit, badly, tell, woul...\n",
       "16       [material, color, nice, leg, opening, large, l...\n",
       "17       [took, chance, blouse, glad, wasnt, crazy, blo...\n",
       "18       [flattering, super, cozy, coat, work, cold, dr...\n",
       "19       [love, look, feel, tulle, dress, looking, diff...\n",
       "20       [product, petite, petite, regular, little, lon...\n",
       "21       [im, upset, price, dress, thought, embroidered...\n",
       "22       [pullover, styling, zipper, wouldnt, purchased...\n",
       "23       [cute, little, dress, fit, tt, little, high, w...\n",
       "24       [love, shirt, saw, wasnt, sure, shirt, dress, ...\n",
       "25       [loved, material, didnt, really, look, long, d...\n",
       "26       [waiting, sweater, coat, ship, week, excited, ...\n",
       "27       [color, werent, expected, dark, blue, vibrant,...\n",
       "28       [goodhyouman, shirt, compliment, especially, s...\n",
       "29       [sweater, comfy, classic, balance, quirky, han...\n",
       "                               ...                        \n",
       "23454    [fabric, textured, like, upholstery, zipper, l...\n",
       "23455    [cute, dress, mainly, like, neckline, differen...\n",
       "23456    [search, dress, sleeve, cute, date, night, big...\n",
       "23457    [pant, soft, fun, print, comfy, drop, crotch, ...\n",
       "23458    [new, favorite, sweater, lightweight, drapey, ...\n",
       "23459    [new, favorite, dress, complaint, slip, small,...\n",
       "23460    [purchased, good, price, typically, love, maev...\n",
       "23461    [tried, store, fit, good, length, ok, petite, ...\n",
       "23462    [pattern, skirt, adorable, look, better, perso...\n",
       "23463    [pant, overall, comfortable, unusual, fit, ten...\n",
       "23464    [wore, dress, work, day, got, compliment, fit,...\n",
       "23465    [bought, dress, work, post, work, happy, hour,...\n",
       "23466    [dress, great, design, fit, look, great, mater...\n",
       "23467    [worry, elastic, waist, resembles, dress, hang...\n",
       "23468    [love, little, chemise, adjustable, strap, sol...\n",
       "23469    [size, available, based, review, stating, bagg...\n",
       "23471    [love, way, pant, look, picture, great, qualit...\n",
       "23472    [saw, shirt, retailer, website, new, arrived, ...\n",
       "23473    [great, quality, extremely, flattering, bonus,...\n",
       "23474    [yes, great, dress, wasnt, sure, online, color...\n",
       "23475    [cute, dress, waist, high, sleeve, tight, mayb...\n",
       "23476    [bottom, cute, defiantly, cheeky, recommend, s...\n",
       "23477    [im, impressed, beautiful, color, combination,...\n",
       "23478    [surprised, positive, review, product, terribl...\n",
       "23479    [wasnt, sure, ordering, skirt, person, im, gla...\n",
       "23481    [happy, snag, dress, great, price, easy, slip,...\n",
       "23482    [reminds, maternity, clothes, soft, stretchy, ...\n",
       "23483    [fit, worked, im, glad, able, try, store, didn...\n",
       "23484    [bought, dress, wedding, summer, cute, unfortu...\n",
       "23485    [dress, lovely, platinum, feminine, fit, perfe...\n",
       "Name: Filtered Text, Length: 22641, dtype: object"
      ]
     },
     "execution_count": 9,
     "metadata": {},
     "output_type": "execute_result"
    }
   ],
   "source": [
    "df['Filtered Text']"
   ]
  },
  {
   "cell_type": "markdown",
   "metadata": {},
   "source": [
    "We've now lemmatized our reviews and ordered them into arrays of strings. The next step is to convert these words from letters to numbers so that our models can use them. "
   ]
  },
  {
   "cell_type": "markdown",
   "metadata": {},
   "source": [
    "To do this, we first calculate the term frequency (TF) of each of the unique words in our document using CountVectorizer in Python."
   ]
  },
  {
   "cell_type": "code",
   "execution_count": 10,
   "metadata": {},
   "outputs": [],
   "source": [
    "from sklearn.feature_extraction.text import CountVectorizer\n",
    "\n",
    "cv = CountVectorizer(ngram_range=(1,2), min_df=0.005, max_df=0.9, tokenizer=lambda doc:doc, lowercase=False)\n",
    "cv_vals = cv.fit_transform(df['Filtered Text'])\n"
   ]
  },
  {
   "cell_type": "code",
   "execution_count": 11,
   "metadata": {},
   "outputs": [],
   "source": [
    "from sklearn.feature_extraction.text import TfidfTransformer\n",
    "\n",
    "transformer = TfidfTransformer(smooth_idf = False)\n",
    "tfidf = transformer.fit_transform(cv_vals)\n",
    "\n"
   ]
  },
  {
   "cell_type": "code",
   "execution_count": 12,
   "metadata": {},
   "outputs": [],
   "source": [
    "df_tfidf = pd.DataFrame(tfidf.toarray(), columns=cv.get_feature_names())"
   ]
  },
  {
   "cell_type": "code",
   "execution_count": 13,
   "metadata": {},
   "outputs": [],
   "source": [
    "df = pd.merge(df, df_tfidf, left_index=True, right_index=True)"
   ]
  },
  {
   "cell_type": "code",
   "execution_count": 14,
   "metadata": {
    "scrolled": true
   },
   "outputs": [
    {
     "data": {
      "text/html": [
       "<div>\n",
       "<style scoped>\n",
       "    .dataframe tbody tr th:only-of-type {\n",
       "        vertical-align: middle;\n",
       "    }\n",
       "\n",
       "    .dataframe tbody tr th {\n",
       "        vertical-align: top;\n",
       "    }\n",
       "\n",
       "    .dataframe thead th {\n",
       "        text-align: right;\n",
       "    }\n",
       "</style>\n",
       "<table border=\"1\" class=\"dataframe\">\n",
       "  <thead>\n",
       "    <tr style=\"text-align: right;\">\n",
       "      <th></th>\n",
       "      <th>Review Text</th>\n",
       "      <th>Rating</th>\n",
       "      <th>Recommended IND</th>\n",
       "      <th>Filtered Text</th>\n",
       "      <th>34b</th>\n",
       "      <th>34c</th>\n",
       "      <th>34d</th>\n",
       "      <th>able</th>\n",
       "      <th>absolutely</th>\n",
       "      <th>absolutely love</th>\n",
       "      <th>...</th>\n",
       "      <th>x petite</th>\n",
       "      <th>xl</th>\n",
       "      <th>xx</th>\n",
       "      <th>year</th>\n",
       "      <th>yellow</th>\n",
       "      <th>yes</th>\n",
       "      <th>yesterday</th>\n",
       "      <th>youre</th>\n",
       "      <th>zip</th>\n",
       "      <th>zipper</th>\n",
       "    </tr>\n",
       "  </thead>\n",
       "  <tbody>\n",
       "    <tr>\n",
       "      <th>0</th>\n",
       "      <td>Absolutely wonderful - silky and sexy and comf...</td>\n",
       "      <td>4</td>\n",
       "      <td>1</td>\n",
       "      <td>[absolutely, wonderful, silky, sexy, comfortable]</td>\n",
       "      <td>0.0</td>\n",
       "      <td>0.0</td>\n",
       "      <td>0.0</td>\n",
       "      <td>0.0</td>\n",
       "      <td>0.384144</td>\n",
       "      <td>0.0</td>\n",
       "      <td>...</td>\n",
       "      <td>0.0</td>\n",
       "      <td>0.0</td>\n",
       "      <td>0.0</td>\n",
       "      <td>0.0</td>\n",
       "      <td>0.0</td>\n",
       "      <td>0.0</td>\n",
       "      <td>0.0</td>\n",
       "      <td>0.0</td>\n",
       "      <td>0.000000</td>\n",
       "      <td>0.000000</td>\n",
       "    </tr>\n",
       "    <tr>\n",
       "      <th>1</th>\n",
       "      <td>Love this dress!  it's sooo pretty.  i happene...</td>\n",
       "      <td>5</td>\n",
       "      <td>1</td>\n",
       "      <td>[love, dress, sooo, pretty, happened, store, i...</td>\n",
       "      <td>0.0</td>\n",
       "      <td>0.0</td>\n",
       "      <td>0.0</td>\n",
       "      <td>0.0</td>\n",
       "      <td>0.000000</td>\n",
       "      <td>0.0</td>\n",
       "      <td>...</td>\n",
       "      <td>0.0</td>\n",
       "      <td>0.0</td>\n",
       "      <td>0.0</td>\n",
       "      <td>0.0</td>\n",
       "      <td>0.0</td>\n",
       "      <td>0.0</td>\n",
       "      <td>0.0</td>\n",
       "      <td>0.0</td>\n",
       "      <td>0.000000</td>\n",
       "      <td>0.000000</td>\n",
       "    </tr>\n",
       "    <tr>\n",
       "      <th>2</th>\n",
       "      <td>I had such high hopes for this dress and reall...</td>\n",
       "      <td>3</td>\n",
       "      <td>0</td>\n",
       "      <td>[high, hope, dress, really, wanted, work, init...</td>\n",
       "      <td>0.0</td>\n",
       "      <td>0.0</td>\n",
       "      <td>0.0</td>\n",
       "      <td>0.0</td>\n",
       "      <td>0.000000</td>\n",
       "      <td>0.0</td>\n",
       "      <td>...</td>\n",
       "      <td>0.0</td>\n",
       "      <td>0.0</td>\n",
       "      <td>0.0</td>\n",
       "      <td>0.0</td>\n",
       "      <td>0.0</td>\n",
       "      <td>0.0</td>\n",
       "      <td>0.0</td>\n",
       "      <td>0.0</td>\n",
       "      <td>0.177994</td>\n",
       "      <td>0.156165</td>\n",
       "    </tr>\n",
       "    <tr>\n",
       "      <th>3</th>\n",
       "      <td>I love, love, love this jumpsuit. it's fun, fl...</td>\n",
       "      <td>5</td>\n",
       "      <td>1</td>\n",
       "      <td>[love, love, love, jumpsuit, fun, flirty, fabu...</td>\n",
       "      <td>0.0</td>\n",
       "      <td>0.0</td>\n",
       "      <td>0.0</td>\n",
       "      <td>0.0</td>\n",
       "      <td>0.000000</td>\n",
       "      <td>0.0</td>\n",
       "      <td>...</td>\n",
       "      <td>0.0</td>\n",
       "      <td>0.0</td>\n",
       "      <td>0.0</td>\n",
       "      <td>0.0</td>\n",
       "      <td>0.0</td>\n",
       "      <td>0.0</td>\n",
       "      <td>0.0</td>\n",
       "      <td>0.0</td>\n",
       "      <td>0.000000</td>\n",
       "      <td>0.000000</td>\n",
       "    </tr>\n",
       "    <tr>\n",
       "      <th>4</th>\n",
       "      <td>This shirt is very flattering to all due to th...</td>\n",
       "      <td>5</td>\n",
       "      <td>1</td>\n",
       "      <td>[shirt, flattering, adjustable, tie, perfect, ...</td>\n",
       "      <td>0.0</td>\n",
       "      <td>0.0</td>\n",
       "      <td>0.0</td>\n",
       "      <td>0.0</td>\n",
       "      <td>0.000000</td>\n",
       "      <td>0.0</td>\n",
       "      <td>...</td>\n",
       "      <td>0.0</td>\n",
       "      <td>0.0</td>\n",
       "      <td>0.0</td>\n",
       "      <td>0.0</td>\n",
       "      <td>0.0</td>\n",
       "      <td>0.0</td>\n",
       "      <td>0.0</td>\n",
       "      <td>0.0</td>\n",
       "      <td>0.000000</td>\n",
       "      <td>0.000000</td>\n",
       "    </tr>\n",
       "  </tbody>\n",
       "</table>\n",
       "<p>5 rows × 892 columns</p>\n",
       "</div>"
      ],
      "text/plain": [
       "                                         Review Text  Rating  Recommended IND  \\\n",
       "0  Absolutely wonderful - silky and sexy and comf...       4                1   \n",
       "1  Love this dress!  it's sooo pretty.  i happene...       5                1   \n",
       "2  I had such high hopes for this dress and reall...       3                0   \n",
       "3  I love, love, love this jumpsuit. it's fun, fl...       5                1   \n",
       "4  This shirt is very flattering to all due to th...       5                1   \n",
       "\n",
       "                                       Filtered Text  34b  34c  34d  able  \\\n",
       "0  [absolutely, wonderful, silky, sexy, comfortable]  0.0  0.0  0.0   0.0   \n",
       "1  [love, dress, sooo, pretty, happened, store, i...  0.0  0.0  0.0   0.0   \n",
       "2  [high, hope, dress, really, wanted, work, init...  0.0  0.0  0.0   0.0   \n",
       "3  [love, love, love, jumpsuit, fun, flirty, fabu...  0.0  0.0  0.0   0.0   \n",
       "4  [shirt, flattering, adjustable, tie, perfect, ...  0.0  0.0  0.0   0.0   \n",
       "\n",
       "   absolutely  absolutely love    ...     x petite   xl   xx  year  yellow  \\\n",
       "0    0.384144              0.0    ...          0.0  0.0  0.0   0.0     0.0   \n",
       "1    0.000000              0.0    ...          0.0  0.0  0.0   0.0     0.0   \n",
       "2    0.000000              0.0    ...          0.0  0.0  0.0   0.0     0.0   \n",
       "3    0.000000              0.0    ...          0.0  0.0  0.0   0.0     0.0   \n",
       "4    0.000000              0.0    ...          0.0  0.0  0.0   0.0     0.0   \n",
       "\n",
       "   yes  yesterday  youre       zip    zipper  \n",
       "0  0.0        0.0    0.0  0.000000  0.000000  \n",
       "1  0.0        0.0    0.0  0.000000  0.000000  \n",
       "2  0.0        0.0    0.0  0.177994  0.156165  \n",
       "3  0.0        0.0    0.0  0.000000  0.000000  \n",
       "4  0.0        0.0    0.0  0.000000  0.000000  \n",
       "\n",
       "[5 rows x 892 columns]"
      ]
     },
     "execution_count": 14,
     "metadata": {},
     "output_type": "execute_result"
    }
   ],
   "source": [
    "df.head()"
   ]
  },
  {
   "cell_type": "code",
   "execution_count": 15,
   "metadata": {},
   "outputs": [],
   "source": [
    "df.pop('34b')\n",
    "df.pop('34c')\n",
    "df.pop('34d')\n",
    "df = df.drop(['Review Text', 'Filtered Text'], axis = 1)"
   ]
  },
  {
   "cell_type": "code",
   "execution_count": 16,
   "metadata": {
    "scrolled": false
   },
   "outputs": [
    {
     "data": {
      "text/html": [
       "<div>\n",
       "<style scoped>\n",
       "    .dataframe tbody tr th:only-of-type {\n",
       "        vertical-align: middle;\n",
       "    }\n",
       "\n",
       "    .dataframe tbody tr th {\n",
       "        vertical-align: top;\n",
       "    }\n",
       "\n",
       "    .dataframe thead th {\n",
       "        text-align: right;\n",
       "    }\n",
       "</style>\n",
       "<table border=\"1\" class=\"dataframe\">\n",
       "  <thead>\n",
       "    <tr style=\"text-align: right;\">\n",
       "      <th></th>\n",
       "      <th>Rating</th>\n",
       "      <th>Recommended IND</th>\n",
       "      <th>able</th>\n",
       "      <th>absolutely</th>\n",
       "      <th>absolutely love</th>\n",
       "      <th>actually</th>\n",
       "      <th>add</th>\n",
       "      <th>added</th>\n",
       "      <th>addition</th>\n",
       "      <th>adorable</th>\n",
       "      <th>...</th>\n",
       "      <th>x petite</th>\n",
       "      <th>xl</th>\n",
       "      <th>xx</th>\n",
       "      <th>year</th>\n",
       "      <th>yellow</th>\n",
       "      <th>yes</th>\n",
       "      <th>yesterday</th>\n",
       "      <th>youre</th>\n",
       "      <th>zip</th>\n",
       "      <th>zipper</th>\n",
       "    </tr>\n",
       "  </thead>\n",
       "  <tbody>\n",
       "    <tr>\n",
       "      <th>0</th>\n",
       "      <td>4</td>\n",
       "      <td>1</td>\n",
       "      <td>0.0</td>\n",
       "      <td>0.384144</td>\n",
       "      <td>0.0</td>\n",
       "      <td>0.0</td>\n",
       "      <td>0.0</td>\n",
       "      <td>0.0</td>\n",
       "      <td>0.0</td>\n",
       "      <td>0.0</td>\n",
       "      <td>...</td>\n",
       "      <td>0.0</td>\n",
       "      <td>0.0</td>\n",
       "      <td>0.0</td>\n",
       "      <td>0.0</td>\n",
       "      <td>0.0</td>\n",
       "      <td>0.0</td>\n",
       "      <td>0.0</td>\n",
       "      <td>0.0</td>\n",
       "      <td>0.000000</td>\n",
       "      <td>0.000000</td>\n",
       "    </tr>\n",
       "    <tr>\n",
       "      <th>1</th>\n",
       "      <td>5</td>\n",
       "      <td>1</td>\n",
       "      <td>0.0</td>\n",
       "      <td>0.000000</td>\n",
       "      <td>0.0</td>\n",
       "      <td>0.0</td>\n",
       "      <td>0.0</td>\n",
       "      <td>0.0</td>\n",
       "      <td>0.0</td>\n",
       "      <td>0.0</td>\n",
       "      <td>...</td>\n",
       "      <td>0.0</td>\n",
       "      <td>0.0</td>\n",
       "      <td>0.0</td>\n",
       "      <td>0.0</td>\n",
       "      <td>0.0</td>\n",
       "      <td>0.0</td>\n",
       "      <td>0.0</td>\n",
       "      <td>0.0</td>\n",
       "      <td>0.000000</td>\n",
       "      <td>0.000000</td>\n",
       "    </tr>\n",
       "    <tr>\n",
       "      <th>2</th>\n",
       "      <td>3</td>\n",
       "      <td>0</td>\n",
       "      <td>0.0</td>\n",
       "      <td>0.000000</td>\n",
       "      <td>0.0</td>\n",
       "      <td>0.0</td>\n",
       "      <td>0.0</td>\n",
       "      <td>0.0</td>\n",
       "      <td>0.0</td>\n",
       "      <td>0.0</td>\n",
       "      <td>...</td>\n",
       "      <td>0.0</td>\n",
       "      <td>0.0</td>\n",
       "      <td>0.0</td>\n",
       "      <td>0.0</td>\n",
       "      <td>0.0</td>\n",
       "      <td>0.0</td>\n",
       "      <td>0.0</td>\n",
       "      <td>0.0</td>\n",
       "      <td>0.177994</td>\n",
       "      <td>0.156165</td>\n",
       "    </tr>\n",
       "    <tr>\n",
       "      <th>3</th>\n",
       "      <td>5</td>\n",
       "      <td>1</td>\n",
       "      <td>0.0</td>\n",
       "      <td>0.000000</td>\n",
       "      <td>0.0</td>\n",
       "      <td>0.0</td>\n",
       "      <td>0.0</td>\n",
       "      <td>0.0</td>\n",
       "      <td>0.0</td>\n",
       "      <td>0.0</td>\n",
       "      <td>...</td>\n",
       "      <td>0.0</td>\n",
       "      <td>0.0</td>\n",
       "      <td>0.0</td>\n",
       "      <td>0.0</td>\n",
       "      <td>0.0</td>\n",
       "      <td>0.0</td>\n",
       "      <td>0.0</td>\n",
       "      <td>0.0</td>\n",
       "      <td>0.000000</td>\n",
       "      <td>0.000000</td>\n",
       "    </tr>\n",
       "    <tr>\n",
       "      <th>4</th>\n",
       "      <td>5</td>\n",
       "      <td>1</td>\n",
       "      <td>0.0</td>\n",
       "      <td>0.000000</td>\n",
       "      <td>0.0</td>\n",
       "      <td>0.0</td>\n",
       "      <td>0.0</td>\n",
       "      <td>0.0</td>\n",
       "      <td>0.0</td>\n",
       "      <td>0.0</td>\n",
       "      <td>...</td>\n",
       "      <td>0.0</td>\n",
       "      <td>0.0</td>\n",
       "      <td>0.0</td>\n",
       "      <td>0.0</td>\n",
       "      <td>0.0</td>\n",
       "      <td>0.0</td>\n",
       "      <td>0.0</td>\n",
       "      <td>0.0</td>\n",
       "      <td>0.000000</td>\n",
       "      <td>0.000000</td>\n",
       "    </tr>\n",
       "  </tbody>\n",
       "</table>\n",
       "<p>5 rows × 887 columns</p>\n",
       "</div>"
      ],
      "text/plain": [
       "   Rating  Recommended IND  able  absolutely  absolutely love  actually  add  \\\n",
       "0       4                1   0.0    0.384144              0.0       0.0  0.0   \n",
       "1       5                1   0.0    0.000000              0.0       0.0  0.0   \n",
       "2       3                0   0.0    0.000000              0.0       0.0  0.0   \n",
       "3       5                1   0.0    0.000000              0.0       0.0  0.0   \n",
       "4       5                1   0.0    0.000000              0.0       0.0  0.0   \n",
       "\n",
       "   added  addition  adorable    ...     x petite   xl   xx  year  yellow  yes  \\\n",
       "0    0.0       0.0       0.0    ...          0.0  0.0  0.0   0.0     0.0  0.0   \n",
       "1    0.0       0.0       0.0    ...          0.0  0.0  0.0   0.0     0.0  0.0   \n",
       "2    0.0       0.0       0.0    ...          0.0  0.0  0.0   0.0     0.0  0.0   \n",
       "3    0.0       0.0       0.0    ...          0.0  0.0  0.0   0.0     0.0  0.0   \n",
       "4    0.0       0.0       0.0    ...          0.0  0.0  0.0   0.0     0.0  0.0   \n",
       "\n",
       "   yesterday  youre       zip    zipper  \n",
       "0        0.0    0.0  0.000000  0.000000  \n",
       "1        0.0    0.0  0.000000  0.000000  \n",
       "2        0.0    0.0  0.177994  0.156165  \n",
       "3        0.0    0.0  0.000000  0.000000  \n",
       "4        0.0    0.0  0.000000  0.000000  \n",
       "\n",
       "[5 rows x 887 columns]"
      ]
     },
     "execution_count": 16,
     "metadata": {},
     "output_type": "execute_result"
    }
   ],
   "source": [
    "df.head()"
   ]
  },
  {
   "cell_type": "markdown",
   "metadata": {},
   "source": [
    "We've mostly finished preprocessing the data for our NLP analysis. However, let's first gain an intuition about what's going on in the dataset. In the EDA section, we will graphically represent our data in various ways so that we can gain a better understanding of what trends are appearing without any other analysis. "
   ]
  },
  {
   "cell_type": "markdown",
   "metadata": {},
   "source": [
    "# EDA"
   ]
  },
  {
   "cell_type": "markdown",
   "metadata": {},
   "source": [
    "Let's gain some intuition on the trends present within our dataset. First, let's recover the original dataframe and create some charts."
   ]
  },
  {
   "cell_type": "code",
   "execution_count": 17,
   "metadata": {},
   "outputs": [
    {
     "data": {
      "text/plain": [
       "<Figure size 640x480 with 2 Axes>"
      ]
     },
     "metadata": {},
     "output_type": "display_data"
    }
   ],
   "source": [
    "import seaborn as sns \n",
    "import matplotlib.pyplot as plt\n",
    "\n",
    "orig_df = pd.read_csv('./datasets/Womens Clothing E-Commerce Reviews.csv')\n",
    "orig_df.pop('Unnamed: 0')\n",
    "corr = orig_df.corr()\n",
    "sns.heatmap(corr)\n",
    "plt.show()"
   ]
  },
  {
   "cell_type": "markdown",
   "metadata": {},
   "source": [
    "From the correlation matrix, we can observe that there is very little correlation between the original columns of the dataset. However, the Recommended IND and the Rating are very positively correlated, which makes sense as people are much more likely to recommend products that they rate highly. "
   ]
  },
  {
   "cell_type": "code",
   "execution_count": 18,
   "metadata": {},
   "outputs": [
    {
     "data": {
      "text/plain": [
       "<matplotlib.axes._subplots.AxesSubplot at 0x23ce80717c8>"
      ]
     },
     "execution_count": 18,
     "metadata": {},
     "output_type": "execute_result"
    },
    {
     "data": {
      "image/png": "[encoded data removed]",
      "text/plain": [
       "<Figure size 432x288 with 1 Axes>"
      ]
     },
     "metadata": {
      "needs_background": "light"
     },
     "output_type": "display_data"
    }
   ],
   "source": [
    "pd.value_counts(orig_df['Department Name']).plot.bar()"
   ]
  },
  {
   "cell_type": "markdown",
   "metadata": {},
   "source": [
    "The bar chart above shows the amount of sales per department at the given store. The chart indicates more demand for Tops, Dresses, and Bottoms, meaning that stores should be stocking much more of those particular items rather than things like Jackets, etc. "
   ]
  },
  {
   "cell_type": "code",
   "execution_count": 19,
   "metadata": {},
   "outputs": [
    {
     "data": {
      "text/plain": [
       "<matplotlib.axes._subplots.AxesSubplot at 0x23c82827248>"
      ]
     },
     "execution_count": 19,
     "metadata": {},
     "output_type": "execute_result"
    },
    {
     "data": {
      "image/png": "[encoded data removed]",
      "text/plain": [
       "<Figure size 432x288 with 1 Axes>"
      ]
     },
     "metadata": {
      "needs_background": "light"
     },
     "output_type": "display_data"
    }
   ],
   "source": [
    "pd.value_counts(orig_df['Rating']).plot.bar()"
   ]
  },
  {
   "cell_type": "markdown",
   "metadata": {},
   "source": [
    "The chart above contains the rating information for all of the products in the dataset. Oddly enough, customers are much more generous at giving ratings of 5 compared to ratings of 1 or 2. This may be due to the fact that customers who would have given 1 star ratings simply don't bother actually rating the product at the end. The distribution for these ratings is very uneven and skewed towards the 4+ ratings, so this may affect our prediction results if we don't equalize the numbers. "
   ]
  },
  {
   "cell_type": "code",
   "execution_count": 20,
   "metadata": {},
   "outputs": [
    {
     "data": {
      "text/plain": [
       "<matplotlib.axes._subplots.AxesSubplot at 0x23c82822d08>"
      ]
     },
     "execution_count": 20,
     "metadata": {},
     "output_type": "execute_result"
    },
    {
     "data": {
      "image/png": "[encoded data removed]",
      "text/plain": [
       "<Figure size 432x288 with 1 Axes>"
      ]
     },
     "metadata": {
      "needs_background": "light"
     },
     "output_type": "display_data"
    }
   ],
   "source": [
    "pd.value_counts(orig_df['Recommended IND']).plot.bar()"
   ]
  },
  {
   "cell_type": "markdown",
   "metadata": {},
   "source": [
    "Similarly to the ratings chart, the recommendation chart also has a very heavy concentration of recommendations compared to no recommendations. Before we make our model, it may be useful to equalize the amounts of recommended/not recommended items to increase the accuracy of our model."
   ]
  },
  {
   "cell_type": "code",
   "execution_count": 21,
   "metadata": {},
   "outputs": [
    {
     "data": {
      "text/plain": [
       "<matplotlib.axes._subplots.AxesSubplot at 0x23c8291b188>"
      ]
     },
     "execution_count": 21,
     "metadata": {},
     "output_type": "execute_result"
    },
    {
     "data": {
      "image/png": "[encoded data removed]",
      "text/plain": [
       "<Figure size 432x288 with 1 Axes>"
      ]
     },
     "metadata": {
      "needs_background": "light"
     },
     "output_type": "display_data"
    }
   ],
   "source": [
    "sns.boxplot(x='Recommended IND', y='Rating', data=orig_df)"
   ]
  },
  {
   "cell_type": "markdown",
   "metadata": {},
   "source": [
    "The above chart displays the rating ranges for products that are recommended/not-recommended. The threshold for being recommended by the customer ranges from 2.0-3.0 rating (not-recommended) to 4.0-5.0 (recommended). There are also outliers, which may come from mistakes when filling out the ratings form or recommendations that were not meant to be taken seriously. "
   ]
  },
  {
   "cell_type": "markdown",
   "metadata": {},
   "source": [
    "To get a better view of the words that form good reviews, let's take subsets of our dataset that are recommended and not recommended, then make word clouds out of tose subsets. "
   ]
  },
  {
   "cell_type": "code",
   "execution_count": 22,
   "metadata": {},
   "outputs": [],
   "source": [
    "from wordcloud import WordCloud, STOPWORDS\n",
    "\n",
    "orig_df.dropna()\n",
    "orig_df['Filtered Text'] = orig_df['Review Text'].apply(lambda x: [''.join(item.lower()) for item in str(x).split()])\n",
    "orig_df['Filtered Text'] = orig_df['Filtered Text'].apply(lambda x: [item.translate(str.maketrans('', '', string.punctuation)) for item in x])\n",
    "orig_df['Filtered Text'] = orig_df['Filtered Text'].apply(lambda x: ' '.join([word for word in x if word not in (eng_stop_words) and word != \" \" and word.isdigit() == False]))\n",
    "orig_df = orig_df.drop(orig_df[orig_df['Filtered Text'] == 'nan'].index)\n",
    "\n",
    "recommend_df = orig_df[orig_df['Recommended IND'] == 1]\n",
    "not_recommend_df = orig_df[orig_df['Recommended IND'] == 0]\n",
    "\n",
    "review_text_rec = recommend_df.pop('Filtered Text')\n",
    "review_text_not_rec = not_recommend_df.pop('Filtered Text')\n",
    "\n",
    "recommend_wc = \"\"\n",
    "not_recommend_wc = \"\"\n",
    "\n",
    "for sentence in review_text_rec:\n",
    "    recommend_wc = recommend_wc + str(sentence)\n",
    "for sentence in review_text_not_rec:\n",
    "    not_recommend_wc = not_recommend_wc + str(sentence)\n",
    "\n",
    "stopwords = set(STOPWORDS)\n",
    "\n",
    "rec_wordcloud = WordCloud(width = 2000, height = 1000, \n",
    "                     background_color='white',\n",
    "                     stopwords = stopwords,\n",
    "                     min_font_size = 10).generate(recommend_wc)\n",
    "\n",
    "not_rec_wordcloud = WordCloud(width = 2000, height = 1000, \n",
    "                     background_color='white',\n",
    "                     stopwords = stopwords,\n",
    "                     min_font_size = 10).generate(not_recommend_wc)"
   ]
  },
  {
   "cell_type": "markdown",
   "metadata": {},
   "source": [
    "Let's produce the resulting word cloud to see what the recommended and not recommended words are."
   ]
  },
  {
   "cell_type": "code",
   "execution_count": 23,
   "metadata": {},
   "outputs": [
    {
     "data": {
      "text/plain": [
       "<matplotlib.image.AxesImage at 0x23c82f6f088>"
      ]
     },
     "execution_count": 23,
     "metadata": {},
     "output_type": "execute_result"
    },
    {
     "data": {
      "image/png": "[encoded data removed]",
      "text/plain": [
       "<Figure size 432x288 with 1 Axes>"
      ]
     },
     "metadata": {
      "needs_background": "light"
     },
     "output_type": "display_data"
    }
   ],
   "source": [
    "plt.imshow(rec_wordcloud)"
   ]
  },
  {
   "cell_type": "markdown",
   "metadata": {},
   "source": [
    "The next word cloud is for the not recommended."
   ]
  },
  {
   "cell_type": "code",
   "execution_count": 24,
   "metadata": {},
   "outputs": [
    {
     "data": {
      "text/plain": [
       "<matplotlib.image.AxesImage at 0x23c838379c8>"
      ]
     },
     "execution_count": 24,
     "metadata": {},
     "output_type": "execute_result"
    },
    {
     "data": {
      "image/png": "[encoded data removed]",
      "text/plain": [
       "<Figure size 432x288 with 1 Axes>"
      ]
     },
     "metadata": {
      "needs_background": "light"
     },
     "output_type": "display_data"
    }
   ],
   "source": [
    "plt.imshow(not_rec_wordcloud)"
   ]
  },
  {
   "cell_type": "markdown",
   "metadata": {},
   "source": [
    "From the above, it seems as if most of the not recommended reviews come from complaints about size and fit. While this information could simply come from user error (picking the wrong size, etc.), perhaps retailers or clothing manufacturers can use this information to better educate users on proper sizing and styling. For the future, retailers may consider adjusting their sizing criteria to make it easier for the consumer to get the best fit possible on the first try. Improving the first try experience is really important in this case as we observed that consumers often leave little to no information when they have an unpleasant experience. Usually, when there is a bad first experience, there is no chance for a second."
   ]
  },
  {
   "cell_type": "markdown",
   "metadata": {},
   "source": [
    "Let's equalize the counts of recommended and not recommended reviews to improve the accuracy of our model. "
   ]
  },
  {
   "cell_type": "code",
   "execution_count": 25,
   "metadata": {},
   "outputs": [],
   "source": [
    "recommend_df = df[df['Recommended IND'] == 1]\n",
    "not_recommend_df = df[df['Recommended IND'] == 0]\n",
    "\n",
    "recommend_df = recommend_df.loc[:][:len(not_recommend_df.index)]\n",
    "new_df = pd.concat([recommend_df, not_recommend_df])"
   ]
  },
  {
   "cell_type": "code",
   "execution_count": 26,
   "metadata": {},
   "outputs": [
    {
     "data": {
      "text/plain": [
       "<matplotlib.axes._subplots.AxesSubplot at 0x23c829bfc08>"
      ]
     },
     "execution_count": 26,
     "metadata": {},
     "output_type": "execute_result"
    },
    {
     "data": {
      "image/png": "[encoded data removed]",
      "text/plain": [
       "<Figure size 432x288 with 1 Axes>"
      ]
     },
     "metadata": {
      "needs_background": "light"
     },
     "output_type": "display_data"
    }
   ],
   "source": [
    "pd.value_counts(new_df['Recommended IND']).plot.bar()"
   ]
  },
  {
   "cell_type": "markdown",
   "metadata": {},
   "source": [
    "# Model Training"
   ]
  },
  {
   "cell_type": "markdown",
   "metadata": {},
   "source": [
    "Now that we've done some data analysis, we can begin training our model and trying to predict some results. We begin by using the dataset we prepared earlier during the data preprocessing stage. "
   ]
  },
  {
   "cell_type": "code",
   "execution_count": 27,
   "metadata": {},
   "outputs": [],
   "source": [
    "from sklearn.model_selection import train_test_split\n",
    "from sklearn.metrics import accuracy_score\n",
    "\n",
    "training, test = train_test_split(df, train_size = 0.7, test_size = 0.3, shuffle=True)\n",
    "\n",
    "ratings_train_lbl = training.pop('Rating')\n",
    "ratings_test_lbl = test.pop('Rating')\n",
    "training_label = training.pop('Recommended IND')\n",
    "test_label = test.pop('Recommended IND')"
   ]
  },
  {
   "cell_type": "markdown",
   "metadata": {},
   "source": [
    "We're trying to predict two different things: the first is whether or not a product is recommended or not based on the review text written, the second is predicting the rating of a product between 1-5 also based on the review text. We do this using the TFIDF matrix we generated earlier to numerically represent our text chunks. "
   ]
  },
  {
   "cell_type": "code",
   "execution_count": 28,
   "metadata": {},
   "outputs": [],
   "source": [
    "from sklearn.tree import DecisionTreeClassifier\n",
    "from sklearn.datasets import make_classification\n",
    "from sklearn.ensemble import RandomForestClassifier\n",
    "from sklearn.naive_bayes import MultinomialNB\n",
    "from sklearn.linear_model import LogisticRegression\n",
    "from sklearn.svm import SVC\n",
    "from sklearn.neighbors import KNeighborsClassifier\n",
    "\n",
    "dtc = DecisionTreeClassifier()\n",
    "rfc = RandomForestClassifier()\n",
    "nbc = MultinomialNB()\n",
    "LR = LogisticRegression(random_state=0,solver='lbfgs',multi_class='multinomial')\n",
    "SVM = SVC(kernel='rbf', C=1,gamma='auto')\n",
    "knn = KNeighborsClassifier(n_neighbors=3)"
   ]
  },
  {
   "cell_type": "markdown",
   "metadata": {},
   "source": [
    "Then, we fit the model to the training data using the training labels. We run the predictions afterward."
   ]
  },
  {
   "cell_type": "code",
   "execution_count": 29,
   "metadata": {},
   "outputs": [
    {
     "name": "stderr",
     "output_type": "stream",
     "text": [
      "c:\\users\\tgmat\\appdata\\local\\programs\\python\\python37\\lib\\site-packages\\sklearn\\ensemble\\forest.py:245: FutureWarning: The default value of n_estimators will change from 10 in version 0.20 to 100 in 0.22.\n",
      "  \"10 in version 0.20 to 100 in 0.22.\", FutureWarning)\n"
     ]
    }
   ],
   "source": [
    "# train the models\n",
    "dtc.fit(training, training_label)\n",
    "rfc.fit(training, training_label)\n",
    "nbc.fit(training, training_label)\n",
    "LR.fit(training, training_label)\n",
    "SVM.fit(training, training_label)\n",
    "knn.fit(training, training_label)\n",
    "\n",
    "# try and predict an outcome from the test set\n",
    "dtc_predict = dtc.predict(test)\n",
    "rfc_predict = rfc.predict(test)\n",
    "nbc_predict = nbc.predict(test)\n",
    "LR_predict = LR.predict(test)\n",
    "SVM_predict = SVM.predict(test)\n",
    "knn_predict = knn.predict(test)"
   ]
  },
  {
   "cell_type": "markdown",
   "metadata": {},
   "source": [
    "We store the accuracy values for each algorithm in a dictionary for future use. The pprint package is used to nicely format the dictionary when we print it."
   ]
  },
  {
   "cell_type": "code",
   "execution_count": 30,
   "metadata": {},
   "outputs": [
    {
     "name": "stdout",
     "output_type": "stream",
     "text": [
      "{   'DecisionTree': 0.7112740604949588,\n",
      "    'KNN': 0.7997250229147571,\n",
      "    'Linear Regression': 0.8168347082187596,\n",
      "    'Naive_bayes': 0.8171402383134739,\n",
      "    'RandomForest': 0.8032386190039719,\n",
      "    'support_vector_Machines': 0.8171402383134739}\n"
     ]
    }
   ],
   "source": [
    "import pprint\n",
    "\n",
    "pp = pprint.PrettyPrinter(indent=4)\n",
    "# judge accuracy using built-in function\n",
    "accuracy = dict()\n",
    "accuracy['Naive_bayes'] = accuracy_score(test_label, nbc_predict)\n",
    "accuracy['DecisionTree'] = accuracy_score(test_label, dtc_predict)\n",
    "accuracy['RandomForest'] = accuracy_score(test_label,rfc_predict)\n",
    "accuracy['support_vector_Machines'] = accuracy_score(test_label,SVM_predict)\n",
    "accuracy['Linear Regression'] = accuracy_score(test_label,LR_predict)\n",
    "accuracy['KNN'] = accuracy_score(test_label,knn_predict)\n",
    "\n",
    "pp.pprint(accuracy)"
   ]
  },
  {
   "cell_type": "code",
   "execution_count": 31,
   "metadata": {},
   "outputs": [
    {
     "name": "stdout",
     "output_type": "stream",
     "text": [
      "The best performing algorithm is: Naive_bayes\n"
     ]
    }
   ],
   "source": [
    "max_accuracy = max(accuracy,key=accuracy.get)\n",
    "\n",
    "print('The best performing algorithm is: ' + str(max_accuracy))"
   ]
  },
  {
   "cell_type": "markdown",
   "metadata": {},
   "source": [
    "Let's make a bar plot of the various algorithms and their respective accuracies. "
   ]
  },
  {
   "cell_type": "code",
   "execution_count": 32,
   "metadata": {},
   "outputs": [
    {
     "data": {
      "text/html": [
       "<div>\n",
       "<style scoped>\n",
       "    .dataframe tbody tr th:only-of-type {\n",
       "        vertical-align: middle;\n",
       "    }\n",
       "\n",
       "    .dataframe tbody tr th {\n",
       "        vertical-align: top;\n",
       "    }\n",
       "\n",
       "    .dataframe thead th {\n",
       "        text-align: right;\n",
       "    }\n",
       "</style>\n",
       "<table border=\"1\" class=\"dataframe\">\n",
       "  <thead>\n",
       "    <tr style=\"text-align: right;\">\n",
       "      <th></th>\n",
       "      <th>Algorithms</th>\n",
       "      <th>Percentage</th>\n",
       "    </tr>\n",
       "  </thead>\n",
       "  <tbody>\n",
       "    <tr>\n",
       "      <th>0</th>\n",
       "      <td>Naive_bayes</td>\n",
       "      <td>0.817140</td>\n",
       "    </tr>\n",
       "    <tr>\n",
       "      <th>1</th>\n",
       "      <td>DecisionTree</td>\n",
       "      <td>0.711274</td>\n",
       "    </tr>\n",
       "    <tr>\n",
       "      <th>2</th>\n",
       "      <td>RandomForest</td>\n",
       "      <td>0.803239</td>\n",
       "    </tr>\n",
       "    <tr>\n",
       "      <th>3</th>\n",
       "      <td>support_vector_Machines</td>\n",
       "      <td>0.817140</td>\n",
       "    </tr>\n",
       "    <tr>\n",
       "      <th>4</th>\n",
       "      <td>Linear Regression</td>\n",
       "      <td>0.816835</td>\n",
       "    </tr>\n",
       "    <tr>\n",
       "      <th>5</th>\n",
       "      <td>KNN</td>\n",
       "      <td>0.799725</td>\n",
       "    </tr>\n",
       "  </tbody>\n",
       "</table>\n",
       "</div>"
      ],
      "text/plain": [
       "                Algorithms  Percentage\n",
       "0              Naive_bayes    0.817140\n",
       "1             DecisionTree    0.711274\n",
       "2             RandomForest    0.803239\n",
       "3  support_vector_Machines    0.817140\n",
       "4        Linear Regression    0.816835\n",
       "5                      KNN    0.799725"
      ]
     },
     "metadata": {},
     "output_type": "display_data"
    },
    {
     "data": {
      "image/png": "[encoded data removed]",
      "text/plain": [
       "<Figure size 1080x360 with 1 Axes>"
      ]
     },
     "metadata": {
      "needs_background": "light"
     },
     "output_type": "display_data"
    }
   ],
   "source": [
    "fig, (ax1) = plt.subplots(ncols=1, sharey=True,figsize=(15,5))\n",
    "\n",
    "new_df=pd.DataFrame(list(accuracy.items()),columns=['Algorithms','Percentage'])\n",
    "display(new_df)\n",
    "sns.barplot(x=\"Algorithms\", y=\"Percentage\", data=new_df,ax=ax1);"
   ]
  },
  {
   "cell_type": "markdown",
   "metadata": {},
   "source": [
    "While the results haven't changed, the ~82% accuracy from the Multinomial Naive Bayes algorithm makes it so that we have a very reliable prediction tool for telling whether or not a product will be recommended based purely on the review text. It's not perfect, but it's still a very good model. If we normalize the difference between the recommended and not recommended data subsets, we might be able to get a more accurate model. "
   ]
  },
  {
   "cell_type": "markdown",
   "metadata": {},
   "source": [
    "# Testing the Model"
   ]
  },
  {
   "cell_type": "markdown",
   "metadata": {},
   "source": [
    "Let's try running the predictions on the ratings of the products instead. Since there are 5 possible ratings to choose from, a person has a 20% chance of getting the rating right randomly. If our model can beat 20%, we are doing better than the average scenario!"
   ]
  },
  {
   "cell_type": "code",
   "execution_count": 33,
   "metadata": {},
   "outputs": [
    {
     "name": "stderr",
     "output_type": "stream",
     "text": [
      "c:\\users\\tgmat\\appdata\\local\\programs\\python\\python37\\lib\\site-packages\\sklearn\\ensemble\\forest.py:245: FutureWarning: The default value of n_estimators will change from 10 in version 0.20 to 100 in 0.22.\n",
      "  \"10 in version 0.20 to 100 in 0.22.\", FutureWarning)\n",
      "c:\\users\\tgmat\\appdata\\local\\programs\\python\\python37\\lib\\site-packages\\sklearn\\linear_model\\logistic.py:947: ConvergenceWarning: lbfgs failed to converge. Increase the number of iterations.\n",
      "  \"of iterations.\", ConvergenceWarning)\n"
     ]
    },
    {
     "name": "stdout",
     "output_type": "stream",
     "text": [
      "{   'DecisionTree': 0.3921478765658417,\n",
      "    'KNN': 0.47280782157042467,\n",
      "    'Linear Regression': 0.5487320501069355,\n",
      "    'Naive_bayes': 0.5577451879010082,\n",
      "    'RandomForest': 0.5116101435991445,\n",
      "    'support_vector_Machines': 0.5577451879010082}\n"
     ]
    }
   ],
   "source": [
    "dtc = DecisionTreeClassifier()\n",
    "rfc = RandomForestClassifier()\n",
    "nbc = MultinomialNB()\n",
    "LR = LogisticRegression(random_state=0,solver='lbfgs',multi_class='multinomial')\n",
    "SVM = SVC(kernel='rbf', C=1,gamma='auto')\n",
    "knn = KNeighborsClassifier(n_neighbors=3)\n",
    "\n",
    "# train the models\n",
    "dtc.fit(training, ratings_train_lbl)\n",
    "rfc.fit(training, ratings_train_lbl)\n",
    "nbc.fit(training, ratings_train_lbl)\n",
    "LR.fit(training, ratings_train_lbl)\n",
    "SVM.fit(training, ratings_train_lbl)\n",
    "knn.fit(training, ratings_train_lbl)\n",
    "\n",
    "# try and predict an outcome from the test set\n",
    "dtc_predict = dtc.predict(test)\n",
    "rfc_predict = rfc.predict(test)\n",
    "nbc_predict = nbc.predict(test)\n",
    "LR_predict = LR.predict(test)\n",
    "SVM_predict = SVM.predict(test)\n",
    "knn_predict = knn.predict(test)\n",
    "\n",
    "# judge accuracy using built-in function\n",
    "accuracy_rating = dict()\n",
    "accuracy_rating['Naive_bayes'] = accuracy_score(ratings_test_lbl, nbc_predict)\n",
    "accuracy_rating['DecisionTree'] = accuracy_score(ratings_test_lbl, dtc_predict)\n",
    "accuracy_rating['RandomForest'] = accuracy_score(ratings_test_lbl,rfc_predict)\n",
    "accuracy_rating['support_vector_Machines'] = accuracy_score(ratings_test_lbl,SVM_predict)\n",
    "accuracy_rating['Linear Regression'] = accuracy_score(ratings_test_lbl,LR_predict)\n",
    "accuracy_rating['KNN'] = accuracy_score(ratings_test_lbl,knn_predict)\n",
    "\n",
    "pp.pprint(accuracy_rating)"
   ]
  },
  {
   "cell_type": "code",
   "execution_count": 34,
   "metadata": {},
   "outputs": [
    {
     "name": "stdout",
     "output_type": "stream",
     "text": [
      "The best performing algorithm is: Naive_bayes\n"
     ]
    }
   ],
   "source": [
    "max_accuracy = max(accuracy_rating,key=accuracy_rating.get)\n",
    "\n",
    "print('The best performing algorithm is: ' + str(max_accuracy))"
   ]
  },
  {
   "cell_type": "markdown",
   "metadata": {},
   "source": [
    "While the accuracy isn't extremely high, an average accuracy of about 55% is much better than purely guessing out of 5 options. The inaccuracy compared to the other dataset also comes from the outnumbering of 5 ratings compared to any of the 3/2/1 ratings in the dataset. There are also a lot of common words between the 4/5 star ratings, so NLP classification is going to be difficult because there aren't many unique features among the positive reviews."
   ]
  },
  {
   "cell_type": "markdown",
   "metadata": {},
   "source": [
    "Let's create a bar plot to compare the accuracies of the different algorithms. "
   ]
  },
  {
   "cell_type": "code",
   "execution_count": 35,
   "metadata": {},
   "outputs": [
    {
     "data": {
      "text/html": [
       "<div>\n",
       "<style scoped>\n",
       "    .dataframe tbody tr th:only-of-type {\n",
       "        vertical-align: middle;\n",
       "    }\n",
       "\n",
       "    .dataframe tbody tr th {\n",
       "        vertical-align: top;\n",
       "    }\n",
       "\n",
       "    .dataframe thead th {\n",
       "        text-align: right;\n",
       "    }\n",
       "</style>\n",
       "<table border=\"1\" class=\"dataframe\">\n",
       "  <thead>\n",
       "    <tr style=\"text-align: right;\">\n",
       "      <th></th>\n",
       "      <th>Algorithms</th>\n",
       "      <th>Percentage</th>\n",
       "    </tr>\n",
       "  </thead>\n",
       "  <tbody>\n",
       "    <tr>\n",
       "      <th>0</th>\n",
       "      <td>Naive_bayes</td>\n",
       "      <td>0.557745</td>\n",
       "    </tr>\n",
       "    <tr>\n",
       "      <th>1</th>\n",
       "      <td>DecisionTree</td>\n",
       "      <td>0.392148</td>\n",
       "    </tr>\n",
       "    <tr>\n",
       "      <th>2</th>\n",
       "      <td>RandomForest</td>\n",
       "      <td>0.511610</td>\n",
       "    </tr>\n",
       "    <tr>\n",
       "      <th>3</th>\n",
       "      <td>support_vector_Machines</td>\n",
       "      <td>0.557745</td>\n",
       "    </tr>\n",
       "    <tr>\n",
       "      <th>4</th>\n",
       "      <td>Linear Regression</td>\n",
       "      <td>0.548732</td>\n",
       "    </tr>\n",
       "    <tr>\n",
       "      <th>5</th>\n",
       "      <td>KNN</td>\n",
       "      <td>0.472808</td>\n",
       "    </tr>\n",
       "  </tbody>\n",
       "</table>\n",
       "</div>"
      ],
      "text/plain": [
       "                Algorithms  Percentage\n",
       "0              Naive_bayes    0.557745\n",
       "1             DecisionTree    0.392148\n",
       "2             RandomForest    0.511610\n",
       "3  support_vector_Machines    0.557745\n",
       "4        Linear Regression    0.548732\n",
       "5                      KNN    0.472808"
      ]
     },
     "metadata": {},
     "output_type": "display_data"
    },
    {
     "data": {
      "image/png": "[encoded data removed]",
      "text/plain": [
       "<Figure size 1080x360 with 1 Axes>"
      ]
     },
     "metadata": {
      "needs_background": "light"
     },
     "output_type": "display_data"
    }
   ],
   "source": [
    "fig, (ax1) = plt.subplots(ncols=1, sharey=True,figsize=(15,5))\n",
    "\n",
    "new_df=pd.DataFrame(list(accuracy_rating.items()),columns=['Algorithms','Percentage'])\n",
    "display(new_df)\n",
    "sns.barplot(x=\"Algorithms\", y=\"Percentage\", data=new_df,ax=ax1);"
   ]
  },
  {
   "cell_type": "markdown",
   "metadata": {},
   "source": [
    "We can choose Naive Bayes as our most accurate algorithm, and we can adjust our dataset to increase our model accuracy further by equalizing the number of reviews based on the ratings (ex. 1000 reviews each for 5/4/3/2/1 rating)."
   ]
  },
  {
   "cell_type": "markdown",
   "metadata": {},
   "source": [
    "# Credits"
   ]
  },
  {
   "cell_type": "markdown",
   "metadata": {},
   "source": [
    "Thanks again to the Kaggle community and the publisher of the dataset for helping me with my analysis. "
   ]
  }
 ],
 "metadata": {
  "kernelspec": {
   "display_name": "Python 3",
   "language": "python",
   "name": "python3"
  },
  "language_info": {
   "codemirror_mode": {
    "name": "ipython",
    "version": 3
   },
   "file_extension": ".py",
   "mimetype": "text/x-python",
   "name": "python",
   "nbconvert_exporter": "python",
   "pygments_lexer": "ipython3",
   "version": "3.7.4"
  }
 },
 "nbformat": 4,
 "nbformat_minor": 2
}
